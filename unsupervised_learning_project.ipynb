{
  "nbformat": 4,
  "nbformat_minor": 0,
  "metadata": {
    "colab": {
      "name": "unsupervised_learning_project.ipynb",
      "provenance": [],
      "collapsed_sections": [],
      "authorship_tag": "ABX9TyP/lFUB7CLHMpjwOkbZ4eh1",
      "include_colab_link": true
    },
    "kernelspec": {
      "name": "python3",
      "display_name": "Python 3"
    },
    "language_info": {
      "name": "python"
    }
  },
  "cells": [
    {
      "cell_type": "markdown",
      "metadata": {
        "id": "view-in-github",
        "colab_type": "text"
      },
      "source": [
        "<a href=\"https://colab.research.google.com/github/SeyfGoumeida/Time_series_Unsupervised_Learning/blob/main/unsupervised_learning_project.ipynb\" target=\"_parent\"><img src=\"https://colab.research.google.com/assets/colab-badge.svg\" alt=\"Open In Colab\"/></a>"
      ]
    },
    {
      "cell_type": "code",
      "source": [
        "import pandas as pd\n"
      ],
      "metadata": {
        "id": "ZoYZjOzl5YdA"
      },
      "execution_count": 2,
      "outputs": []
    },
    {
      "cell_type": "code",
      "execution_count": 9,
      "metadata": {
        "id": "Sncs6eHM2UTk"
      },
      "outputs": [],
      "source": [
        "acce_x = pd.read_csv('acce_x.txt', sep=\" \", header=None)\n",
        "acce_y = pd.read_csv('acce_y.txt', sep=\" \", header=None)\n",
        "acce_z = pd.read_csv('acce_z.txt', sep=\" \", header=None)\n",
        "accm_x = pd.read_csv('accm_x.txt', sep=\" \", header=None)\n",
        "accm_y = pd.read_csv('accm_y.txt', sep=\" \", header=None)\n",
        "accm_z = pd.read_csv('accm_z.txt', sep=\" \", header=None)\n",
        "vit_x = pd.read_csv('vit_x.txt', sep=\" \", header=None)\n",
        "vit_y = pd.read_csv('vit_y.txt', sep=\" \", header=None)\n",
        "vit_y = pd.read_csv('vit_y.txt', sep=\" \", header=None)\n",
        "lab = pd.read_csv('lab.txt', sep=\" \", header=None)\n"
      ]
    },
    {
      "cell_type": "code",
      "source": [
        ""
      ],
      "metadata": {
        "colab": {
          "base_uri": "https://localhost:8080/"
        },
        "id": "J0_fCEHp506M",
        "outputId": "11ebc164-97e5-4b2f-8f10-62058055bb16"
      },
      "execution_count": 10,
      "outputs": [
        {
          "output_type": "stream",
          "name": "stdout",
          "text": [
            "          0         1         2    ...       125       126       127\n",
            "0    0.000181  0.010139  0.009276  ... -0.001147 -0.000222  0.001576\n",
            "1    0.001094  0.004550  0.002879  ... -0.004646 -0.002941 -0.001599\n",
            "2    0.003531  0.002285 -0.000420  ...  0.001246  0.003117  0.002178\n",
            "3   -0.001772 -0.001311  0.000388  ... -0.000867 -0.001172 -0.000028\n",
            "4    0.000087 -0.000272  0.001022  ... -0.000698 -0.001223 -0.003328\n",
            "..        ...       ...       ...  ...       ...       ...       ...\n",
            "342 -0.131181 -0.159294 -0.277108  ... -0.226757 -0.218553 -0.356179\n",
            "343 -0.157803 -0.261359 -0.317072  ... -0.265351 -0.111820 -0.022796\n",
            "344 -0.467195 -0.416329 -0.448448  ...  0.218609  0.411795  0.737382\n",
            "345 -0.045381 -0.009866  0.066809  ... -0.034164 -0.056739 -0.111066\n",
            "346  0.943501  0.598496  0.008806  ... -0.406765 -0.394082 -0.377302\n",
            "\n",
            "[347 rows x 128 columns]\n",
            "     0\n",
            "0    5\n",
            "1    5\n",
            "2    5\n",
            "3    5\n",
            "4    5\n",
            "..  ..\n",
            "342  3\n",
            "343  3\n",
            "344  3\n",
            "345  3\n",
            "346  3\n",
            "\n",
            "[347 rows x 1 columns]\n"
          ]
        }
      ]
    }
  ]
}